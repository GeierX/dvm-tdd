{
 "cells": [
  {
   "cell_type": "code",
   "execution_count": 1,
   "metadata": {},
   "outputs": [
    {
     "data": {
      "text/plain": [
       "2201"
      ]
     },
     "execution_count": 1,
     "metadata": {},
     "output_type": "execute_result"
    }
   ],
   "source": [
    "from lxml import etree\n",
    "from signxml import XMLSigner, XMLVerifier\n",
    "\n",
    "to_be_signed = open(\"to-be-signed.xml\").read()\n",
    "privkey = open(\"privkey.pem\").read()\n",
    "zertifikat = open(\"zertifikat.pem\").read()\n",
    "\n",
    "bäumchen = etree.fromstring(to_be_signed)\n",
    "signiertes_bäumchen = XMLSigner().sign(bäumchen, cert=zertifikat, key=privkey)\n",
    "\n",
    "asstring = etree.tostring(signiertes_bäumchen)\n",
    "open(\"has-been-signed.xml\", \"wb\").write(asstring)"
   ]
  },
  {
   "cell_type": "code",
   "execution_count": 4,
   "metadata": {},
   "outputs": [
    {
     "ename": "InvalidDigest",
     "evalue": "Digest mismatch for reference 0 ()",
     "output_type": "error",
     "traceback": [
      "\u001b[1;31m---------------------------------------------------------------------------\u001b[0m",
      "\u001b[1;31mInvalidDigest\u001b[0m                             Traceback (most recent call last)",
      "\u001b[1;32mc:\\Users\\alois\\Desktop\\dvm-tdd\\S3 - 1.3 Sys I\\WS 2022\\2023-01-11\\xml-signing.ipynb Cell 2\u001b[0m in \u001b[0;36m<cell line: 9>\u001b[1;34m()\u001b[0m\n\u001b[0;32m      <a href='vscode-notebook-cell:/c%3A/Users/alois/Desktop/dvm-tdd/S3%20-%201.3%20Sys%20I/WS%202022/2023-01-11/xml-signing.ipynb#W1sZmlsZQ%3D%3D?line=4'>5</a>\u001b[0m signiertes_bäumchen \u001b[39m=\u001b[39m etree\u001b[39m.\u001b[39mfromstring(has_been_signed)\n\u001b[0;32m      <a href='vscode-notebook-cell:/c%3A/Users/alois/Desktop/dvm-tdd/S3%20-%201.3%20Sys%20I/WS%202022/2023-01-11/xml-signing.ipynb#W1sZmlsZQ%3D%3D?line=6'>7</a>\u001b[0m zertifikat \u001b[39m=\u001b[39m \u001b[39mopen\u001b[39m(\u001b[39m\"\u001b[39m\u001b[39mzertifikat.pem\u001b[39m\u001b[39m\"\u001b[39m)\u001b[39m.\u001b[39mread()\n\u001b[1;32m----> <a href='vscode-notebook-cell:/c%3A/Users/alois/Desktop/dvm-tdd/S3%20-%201.3%20Sys%20I/WS%202022/2023-01-11/xml-signing.ipynb#W1sZmlsZQ%3D%3D?line=8'>9</a>\u001b[0m XMLVerifier()\u001b[39m.\u001b[39;49mverify(signiertes_bäumchen, x509_cert \u001b[39m=\u001b[39;49m zertifikat)\u001b[39m.\u001b[39msigned_xml\n",
      "File \u001b[1;32mc:\\Users\\alois\\AppData\\Local\\Programs\\Python\\Python310\\lib\\site-packages\\signxml\\verifier.py:454\u001b[0m, in \u001b[0;36mXMLVerifier.verify\u001b[1;34m(self, data, x509_cert, cert_subject_name, cert_resolver, ca_pem_file, ca_path, hmac_key, validate_schema, parser, uri_resolver, id_attribute, expect_config, **deprecated_kwargs)\u001b[0m\n\u001b[0;32m    452\u001b[0m verify_results: List[VerifyResult] \u001b[39m=\u001b[39m []\n\u001b[0;32m    453\u001b[0m \u001b[39mfor\u001b[39;00m idx, reference \u001b[39min\u001b[39;00m \u001b[39menumerate\u001b[39m(\u001b[39mself\u001b[39m\u001b[39m.\u001b[39m_findall(signed_info, \u001b[39m\"\u001b[39m\u001b[39mReference\u001b[39m\u001b[39m\"\u001b[39m)):\n\u001b[1;32m--> 454\u001b[0m     verify_results\u001b[39m.\u001b[39mappend(\u001b[39mself\u001b[39;49m\u001b[39m.\u001b[39;49m_verify_reference(reference, idx, root, uri_resolver, c14n_algorithm, signature))\n\u001b[0;32m    456\u001b[0m \u001b[39mif\u001b[39;00m \u001b[39mtype\u001b[39m(\u001b[39mself\u001b[39m\u001b[39m.\u001b[39mconfig\u001b[39m.\u001b[39mexpect_references) \u001b[39mis\u001b[39;00m \u001b[39mint\u001b[39m \u001b[39mand\u001b[39;00m \u001b[39mlen\u001b[39m(verify_results) \u001b[39m!=\u001b[39m \u001b[39mself\u001b[39m\u001b[39m.\u001b[39mconfig\u001b[39m.\u001b[39mexpect_references:\n\u001b[0;32m    457\u001b[0m     msg \u001b[39m=\u001b[39m \u001b[39m\"\u001b[39m\u001b[39mExpected to find \u001b[39m\u001b[39m{}\u001b[39;00m\u001b[39m references, but found \u001b[39m\u001b[39m{}\u001b[39;00m\u001b[39m\"\u001b[39m\n",
      "File \u001b[1;32mc:\\Users\\alois\\AppData\\Local\\Programs\\Python\\Python310\\lib\\site-packages\\signxml\\verifier.py:475\u001b[0m, in \u001b[0;36mXMLVerifier._verify_reference\u001b[1;34m(self, reference, index, root, uri_resolver, c14n_algorithm, signature)\u001b[0m\n\u001b[0;32m    472\u001b[0m     \u001b[39mraise\u001b[39;00m InvalidInput(\u001b[39mf\u001b[39m\u001b[39m\"\u001b[39m\u001b[39mDigest algorithm \u001b[39m\u001b[39m{\u001b[39;00mdigest_alg\u001b[39m.\u001b[39mname\u001b[39m}\u001b[39;00m\u001b[39m forbidden by configuration\u001b[39m\u001b[39m\"\u001b[39m)\n\u001b[0;32m    474\u001b[0m \u001b[39mif\u001b[39;00m b64decode(digest_value\u001b[39m.\u001b[39mtext) \u001b[39m!=\u001b[39m \u001b[39mself\u001b[39m\u001b[39m.\u001b[39m_get_digest(payload_c14n, digest_alg):\n\u001b[1;32m--> 475\u001b[0m     \u001b[39mraise\u001b[39;00m InvalidDigest(\u001b[39mf\u001b[39m\u001b[39m\"\u001b[39m\u001b[39mDigest mismatch for reference \u001b[39m\u001b[39m{\u001b[39;00mindex\u001b[39m}\u001b[39;00m\u001b[39m (\u001b[39m\u001b[39m{\u001b[39;00mreference\u001b[39m.\u001b[39mget(\u001b[39m'\u001b[39m\u001b[39mURI\u001b[39m\u001b[39m'\u001b[39m)\u001b[39m}\u001b[39;00m\u001b[39m)\u001b[39m\u001b[39m\"\u001b[39m)\n\u001b[0;32m    477\u001b[0m \u001b[39m# We return the signed XML (and only that) to ensure no access to unsigned data happens\u001b[39;00m\n\u001b[0;32m    478\u001b[0m \u001b[39mtry\u001b[39;00m:\n",
      "\u001b[1;31mInvalidDigest\u001b[0m: Digest mismatch for reference 0 ()"
     ]
    }
   ],
   "source": [
    "from signxml import XMLSigner, XMLVerifier\n",
    "from lxml import etree\n",
    "\n",
    "has_been_signed = open(\"has-been-signed.xml\").read()\n",
    "signiertes_bäumchen = etree.fromstring(has_been_signed)\n",
    "\n",
    "zertifikat = open(\"zertifikat.pem\").read()\n",
    "\n",
    "XMLVerifier().verify(signiertes_bäumchen, x509_cert = zertifikat).signed_xml"
   ]
  }
 ],
 "metadata": {
  "kernelspec": {
   "display_name": "Python 3",
   "language": "python",
   "name": "python3"
  },
  "language_info": {
   "codemirror_mode": {
    "name": "ipython",
    "version": 3
   },
   "file_extension": ".py",
   "mimetype": "text/x-python",
   "name": "python",
   "nbconvert_exporter": "python",
   "pygments_lexer": "ipython3",
   "version": "3.10.4"
  },
  "orig_nbformat": 4,
  "vscode": {
   "interpreter": {
    "hash": "ea44d932f48dcd1dedbec8f628baa68a8acba74a7fdfcb7691afb7ea06069b93"
   }
  }
 },
 "nbformat": 4,
 "nbformat_minor": 2
}
