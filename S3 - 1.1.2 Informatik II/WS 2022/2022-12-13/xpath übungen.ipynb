{
 "cells": [
  {
   "cell_type": "code",
   "execution_count": null,
   "metadata": {},
   "outputs": [],
   "source": [
    "import requests\n",
    "from lxml.html.soupparser import fromstring\n",
    "import lxml.etree as etree\n",
    "\n",
    "webpage = requests.get(\"https://www.hs-ludwigsburg.de\")\n",
    "suppe = webpage.text\n",
    "\n",
    "htmlElement = fromstring(suppe)\n",
    "body = htmlElement.find(\".//body\") # gleich wie: htmlElement.body\n",
    "\n",
    "etree.tostring(body)\n",
    "\n",
    "ergebnis = htmlElement.findall(\".//a\")\n",
    "#etree.tostring(ergebnis)\n",
    "#for link in ergebnis:\n",
    "#    print(etree.tostring(link).decode(\"utf-8\"))\n",
    "\n",
    "htmlElement.find(\"./body\").find(\".//a\")"
   ]
  },
  {
   "cell_type": "code",
   "execution_count": 2,
   "metadata": {},
   "outputs": [
    {
     "data": {
      "text/plain": [
       "('#1', '#2', '#3')"
      ]
     },
     "execution_count": 2,
     "metadata": {},
     "output_type": "execute_result"
    }
   ],
   "source": [
    "from lxml.html.soupparser import fromstring\n",
    "import lxml.etree as etree\n",
    "\n",
    "demo_html = '''\n",
    "<html>\n",
    "    <head></head>\n",
    "    <body>\n",
    "        <a href=\"#1\">erstes A</a>\n",
    "        <a href=\"#2\">zweites A</a>\n",
    "        <div>\n",
    "            <a href=\"#3\">drittes A</a>\n",
    "        </div>\n",
    "    </body>\n",
    "</html>\n",
    "'''\n",
    "\n",
    "root = fromstring(demo_html)\n",
    "\n",
    "body = root.find(\"./body\")\n",
    "erstesA = root.find(\"./body\").find(\"./a\")\n",
    "erstesA = root.find(\"./body/a\").get(\"href\")\n",
    "\n",
    "zweitesA = root.find(\"./body/a[2]\").get(\"href\")\n",
    "\n",
    "erstesA, zweitesA, root.find(\"./body/div/a\").get(\"href\")"
   ]
  }
 ],
 "metadata": {
  "kernelspec": {
   "display_name": "Python 3.10.4 64-bit",
   "language": "python",
   "name": "python3"
  },
  "language_info": {
   "codemirror_mode": {
    "name": "ipython",
    "version": 3
   },
   "file_extension": ".py",
   "mimetype": "text/x-python",
   "name": "python",
   "nbconvert_exporter": "python",
   "pygments_lexer": "ipython3",
   "version": "3.10.4 (tags/v3.10.4:9d38120, Mar 23 2022, 23:13:41) [MSC v.1929 64 bit (AMD64)]"
  },
  "orig_nbformat": 4,
  "vscode": {
   "interpreter": {
    "hash": "ea44d932f48dcd1dedbec8f628baa68a8acba74a7fdfcb7691afb7ea06069b93"
   }
  }
 },
 "nbformat": 4,
 "nbformat_minor": 2
}
