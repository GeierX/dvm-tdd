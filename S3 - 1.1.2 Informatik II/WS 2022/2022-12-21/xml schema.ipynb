{
 "cells": [
  {
   "cell_type": "code",
   "execution_count": 4,
   "metadata": {},
   "outputs": [
    {
     "data": {
      "text/plain": [
       "('a', '5')"
      ]
     },
     "execution_count": 4,
     "metadata": {},
     "output_type": "execute_result"
    }
   ],
   "source": [
    "import lxml.etree as etree\n",
    "\n",
    "schema_root = etree.XML('''\n",
    "<xsd:schema xmlns:xsd=\"http://www.w3.org/2001/XMLSchema\">\n",
    "    <xsd:element name=\"a\" type=\"xsd:integer\"/>\n",
    "</xsd:schema>\n",
    "''')\n",
    "\n",
    "schema = etree.XMLSchema(schema_root)\n",
    "\n",
    "parser = etree.XMLParser(schema = schema)\n",
    "root = etree.fromstring(\"<a>5</a>\", parser)\n",
    "\n",
    "root.tag, root.text"
   ]
  },
  {
   "cell_type": "code",
   "execution_count": 12,
   "metadata": {},
   "outputs": [
    {
     "data": {
      "text/plain": [
       "('from', '2022-01-01')"
      ]
     },
     "execution_count": 12,
     "metadata": {},
     "output_type": "execute_result"
    }
   ],
   "source": [
    "import lxml.etree as etree\n",
    "\n",
    "schema_root = etree.XML('''\n",
    "<xs:schema xmlns:xs=\"http://www.w3.org/2001/XMLSchema\">\n",
    "    <xs:element name=\"note\">\n",
    "    <xs:complexType>\n",
    "        <xs:choice maxOccurs=\"unbounded\">\n",
    "        <xs:element name=\"to\" type=\"xs:string\"/>\n",
    "        <xs:element name=\"from\" type=\"xs:date\"/>\n",
    "        <xs:element name=\"heading\" type=\"xs:string\"/>\n",
    "        <xs:element name=\"body\" type=\"xs:string\"/>\n",
    "        </xs:choice>\n",
    "    </xs:complexType>\n",
    "    </xs:element>\n",
    "</xs:schema>\n",
    "''')\n",
    "\n",
    "xml_to_validate = '''\n",
    "<note>\n",
    "  <to />\n",
    "  <heading />\n",
    "  <body />\n",
    "  <from>2022-01-01</from>\n",
    "</note>\n",
    "'''\n",
    "\n",
    "parser = etree.XMLParser(schema = etree.XMLSchema(schema_root))\n",
    "element_from = None\n",
    "\n",
    "try:\n",
    "    root = etree.fromstring(xml_to_validate, parser)\n",
    "    element_from = root.xpath(\"./from\")\n",
    "\n",
    "except Exception as ex:\n",
    "    print(\"da stimmt was nicht:\")\n",
    "    print(ex.args)\n",
    "\n",
    "if not element_from:\n",
    "    pass\n",
    "\n",
    "element_from[0].tag, element_from[0].text"
   ]
  }
 ],
 "metadata": {
  "kernelspec": {
   "display_name": "Python 3",
   "language": "python",
   "name": "python3"
  },
  "language_info": {
   "codemirror_mode": {
    "name": "ipython",
    "version": 3
   },
   "file_extension": ".py",
   "mimetype": "text/x-python",
   "name": "python",
   "nbconvert_exporter": "python",
   "pygments_lexer": "ipython3",
   "version": "3.10.4"
  },
  "orig_nbformat": 4,
  "vscode": {
   "interpreter": {
    "hash": "ea44d932f48dcd1dedbec8f628baa68a8acba74a7fdfcb7691afb7ea06069b93"
   }
  }
 },
 "nbformat": 4,
 "nbformat_minor": 2
}
