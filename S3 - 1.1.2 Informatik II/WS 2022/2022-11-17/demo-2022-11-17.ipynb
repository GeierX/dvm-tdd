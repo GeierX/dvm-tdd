{
 "cells": [
  {
   "cell_type": "code",
   "execution_count": 18,
   "metadata": {},
   "outputs": [
    {
     "data": {
      "text/plain": [
       "[111.5, 112.5, 115.3, 116.2, 117.3, 117.4, 118.4, 118.8, 121.1, 122.2]"
      ]
     },
     "execution_count": 18,
     "metadata": {},
     "output_type": "execute_result"
    }
   ],
   "source": [
    "import csv\n",
    "from datetime import datetime\n",
    "\n",
    "class InflationsIndex():\n",
    "    def __init__(self, datum, vpi, einzelhandelspreis, erzeugerpreis, großhandelvkp, einfuhrpreis, ausfuhrpreis):\n",
    "        self.datum = datum\n",
    "        self.vpi = vpi\n",
    "        self.einzelhandelspreis = einzelhandelspreis\n",
    "        self.erzeugerpreis = erzeugerpreis\n",
    "        self.großhandelsverkaufpreis = großhandelvkp\n",
    "        self.einfuhrpreis = einfuhrpreis\n",
    "        self.ausfuhrpreis = ausfuhrpreis\n",
    "\n",
    "    def __repr__(self):\n",
    "        return f\"Index für Monat {self.datum.strftime('%m %Y')}\"\n",
    "\n",
    "    def aus_csv(csv_zeile):\n",
    "        datum = datetime.strptime(csv_zeile[0], \"%d/%m/%Y\")\n",
    "        def asFloat(dirty):\n",
    "            cleaned = dirty.replace(\".\", \"\").replace(\",\", \".\")\n",
    "            return float(cleaned) if cleaned != \"\" else 0\n",
    "\n",
    "        vpi = asFloat(csv_zeile[1])\n",
    "        ehp = asFloat(csv_zeile[2])\n",
    "        ezp = asFloat(csv_zeile[3])\n",
    "        ghp = asFloat(csv_zeile[4])\n",
    "        efp = asFloat(csv_zeile[5])\n",
    "        afp = asFloat(csv_zeile[6])\n",
    "        return InflationsIndex(datum, vpi, ehp, ezp, ghp, efp, afp)\n",
    "\n",
    "alleIndexZahlen = []\n",
    "\n",
    "with open(\"preise_ueberblick_originalwert.csv\") as file:\n",
    "    reader = csv.reader(file, delimiter=\";\")\n",
    "\n",
    "    next(reader) # skip first row (description)\n",
    "    next(reader) # skip header row\n",
    "\n",
    "    for row in reader:\n",
    "        alleIndexZahlen.append(InflationsIndex.aus_csv(row)) # create object by .aus_csv class method\n",
    "\n",
    "# filter with lambda-function to obtain all objects containing data for 2022\n",
    "zahlenFür2022 = list(filter(lambda eintrag : eintrag.datum >= datetime(2022, 1, 1), alleIndexZahlen))\n",
    "\n",
    "# selection of attribute \"vpi\" by means of list comprehension\n",
    "vpiFür2022 = [eintrag.vpi for eintrag in zahlenFür2022]\n",
    "\n",
    "vpiFür2022"
   ]
  }
 ],
 "metadata": {
  "kernelspec": {
   "display_name": "Python 3.10.4 64-bit",
   "language": "python",
   "name": "python3"
  },
  "language_info": {
   "codemirror_mode": {
    "name": "ipython",
    "version": 3
   },
   "file_extension": ".py",
   "mimetype": "text/x-python",
   "name": "python",
   "nbconvert_exporter": "python",
   "pygments_lexer": "ipython3",
   "version": "3.10.4"
  },
  "orig_nbformat": 4,
  "vscode": {
   "interpreter": {
    "hash": "ea44d932f48dcd1dedbec8f628baa68a8acba74a7fdfcb7691afb7ea06069b93"
   }
  }
 },
 "nbformat": 4,
 "nbformat_minor": 2
}
