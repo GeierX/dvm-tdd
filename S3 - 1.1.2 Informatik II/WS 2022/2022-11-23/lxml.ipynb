{
 "cells": [
  {
   "cell_type": "code",
   "execution_count": 6,
   "metadata": {},
   "outputs": [
    {
     "name": "stdout",
     "output_type": "stream",
     "text": [
      "b'<raum>\\n  <tisch material=\"holz\"/>\\n  <tisch material=\"holz\"/>\\n  <tisch material=\"stahl\"/>\\n  <tisch material=\"plastik\"/>\\n</raum>\\n'\n"
     ]
    }
   ],
   "source": [
    "from lxml import etree\n",
    "\n",
    "root = etree.Element(\"raum\")\n",
    "\n",
    "# befüllt Raum mit Tischen aus angegebenen Materialien\n",
    "for material in [\"holz\", \"holz\", \"stahl\", \"plastik\"]:\n",
    "    tisch = etree.Element(\"tisch\")\n",
    "    tisch.set(\"material\", material)\n",
    "    root.append(tisch)\n",
    "\n",
    "print(etree.tostring(root, pretty_print = True))"
   ]
  },
  {
   "cell_type": "code",
   "execution_count": 18,
   "metadata": {},
   "outputs": [
    {
     "name": "stdout",
     "output_type": "stream",
     "text": [
      "b'<Raum location=\"urbanHarbour\" zimmernummer=\"uh20\"/>'\n"
     ]
    }
   ],
   "source": [
    "from lxml import etree\n",
    "\n",
    "class SerialisierbareKlasse():\n",
    "\n",
    "    def __init__(self, tagname):\n",
    "        self.tagname = tagname\n",
    "\n",
    "    def alsXml(self):\n",
    "        element = etree.Element(self.tagname)\n",
    "        alleÖffentlichenAttribute = list(filter(lambda a : a[0] != \"_\" and a != \"tagname\", dir(self)))\n",
    "        for attrib in alleÖffentlichenAttribute:\n",
    "            if not callable(getattr(self, attrib)):\n",
    "                element.set(attrib, getattr(self, attrib))\n",
    "        return element\n",
    "\n",
    "class Raum(SerialisierbareKlasse):\n",
    "    def __init__(self, nummer, location):\n",
    "        super().__init__(\"Raum\")\n",
    "        self.zimmernummer = nummer\n",
    "        self.location = location\n",
    "\n",
    "    \"\"\"def alsXml(self):\n",
    "        element = etree.Element(\"Raum\")\n",
    "        element.set(\"zimmernummer\", self.zimmernummer)\n",
    "        element.set(\"location\", self.location)\n",
    "        return element\"\"\"\n",
    "\n",
    "class Tisch():\n",
    "    def __init__(self, typ = \"schreibtisch\"):\n",
    "        self.typ = typ\n",
    "\n",
    "    def alsXml(self):\n",
    "        element = etree.Element(\"Tisch\")\n",
    "        element.set(\"typ\", self.typ)\n",
    "        return element\n",
    "\n",
    "class Mensch():\n",
    "    def __init__(self, name):\n",
    "        self.name = name\n",
    "\n",
    "    def alsXml(self):\n",
    "        element = etree.Element(\"Mensch\")\n",
    "        element.set(\"name\", self.name)\n",
    "        return element\n",
    "\n",
    "raum = Raum(\"uh20\", \"urbanHarbour\")\n",
    "raumAlsXmlElement = raum.alsXml()\n",
    "\n",
    "print(etree.tostring(raumAlsXmlElement))\n",
    "#dir(raum)\n",
    "#getattr(raum, \"location\")"
   ]
  }
 ],
 "metadata": {
  "kernelspec": {
   "display_name": "Python 3.10.4 64-bit",
   "language": "python",
   "name": "python3"
  },
  "language_info": {
   "codemirror_mode": {
    "name": "ipython",
    "version": 3
   },
   "file_extension": ".py",
   "mimetype": "text/x-python",
   "name": "python",
   "nbconvert_exporter": "python",
   "pygments_lexer": "ipython3",
   "version": "3.10.4"
  },
  "orig_nbformat": 4,
  "vscode": {
   "interpreter": {
    "hash": "ea44d932f48dcd1dedbec8f628baa68a8acba74a7fdfcb7691afb7ea06069b93"
   }
  }
 },
 "nbformat": 4,
 "nbformat_minor": 2
}
