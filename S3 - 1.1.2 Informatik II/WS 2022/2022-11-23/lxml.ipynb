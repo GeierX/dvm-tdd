{
 "cells": [
  {
   "cell_type": "code",
   "execution_count": 6,
   "metadata": {},
   "outputs": [
    {
     "name": "stdout",
     "output_type": "stream",
     "text": [
      "b'<raum>\\n  <tisch material=\"holz\"/>\\n  <tisch material=\"holz\"/>\\n  <tisch material=\"stahl\"/>\\n  <tisch material=\"plastik\"/>\\n</raum>\\n'\n"
     ]
    }
   ],
   "source": [
    "from lxml import etree\n",
    "\n",
    "root = etree.Element(\"raum\")\n",
    "\n",
    "# befüllt Raum mit Tischen aus angegebenen Materialien\n",
    "for material in [\"holz\", \"holz\", \"stahl\", \"plastik\"]:\n",
    "    tisch = etree.Element(\"tisch\")\n",
    "    tisch.set(\"material\", material)\n",
    "    root.append(tisch)\n",
    "\n",
    "print(etree.tostring(root, pretty_print = True))"
   ]
  },
  {
   "cell_type": "code",
   "execution_count": 23,
   "metadata": {},
   "outputs": [
    {
     "name": "stdout",
     "output_type": "stream",
     "text": [
      "alleÖffentlichenAttribute: ['alsXml', 'location', 'zimmernummer']\n",
      "alleÖffentlichenAttribute: ['alsXml', 'typ']\n",
      "alleÖffentlichenAttribute: ['alsXml', 'typ']\n",
      "alleÖffentlichenAttribute: ['alsXml', 'name']\n",
      "alleÖffentlichenAttribute: ['alsXml', 'name']\n"
     ]
    }
   ],
   "source": [
    "from lxml import etree\n",
    "\n",
    "class SerialisierbareKlasse():\n",
    "\n",
    "    def __init__(self, tagname):\n",
    "        self.tagname = tagname\n",
    "        self.children = []\n",
    "\n",
    "    def alsXml(self):\n",
    "        element = etree.Element(self.tagname)\n",
    "        alleÖffentlichenAttribute = list(filter(lambda a : a[0] != \"_\" and a != \"tagname\" and a != \"children\", dir(self)))\n",
    "        print(f\"alleÖffentlichenAttribute: {alleÖffentlichenAttribute}\")\n",
    "        for attrib in alleÖffentlichenAttribute:\n",
    "            wertDesAttributs = getattr(self, attrib)\n",
    "            if not callable(wertDesAttributs): # wenn nicht Funktion, dann:\n",
    "                element.set(attrib, getattr(self, attrib))\n",
    "        \n",
    "        for child in self.children:\n",
    "            childAlsXml = child.alsXml()\n",
    "            element.append(childAlsXml)\n",
    "\n",
    "        return element\n",
    "\n",
    "class Raum(SerialisierbareKlasse):\n",
    "    def __init__(self, nummer, location):\n",
    "        super().__init__(\"Raum\")\n",
    "        self.zimmernummer = nummer\n",
    "        self.location = location\n",
    "\n",
    "class Tisch(SerialisierbareKlasse):\n",
    "    def __init__(self, typ = \"schreibtisch\"):\n",
    "        super().__init__(\"Tisch\")\n",
    "        self.typ = typ\n",
    "\n",
    "class Mensch(SerialisierbareKlasse):\n",
    "    def __init__(self, name):\n",
    "        super().__init__(\"Mensch\")\n",
    "        self.name = name\n",
    "\n",
    "raum = Raum(\"uh20\", \"urbanHarbour\")\n",
    "raum.children.append(Tisch())\n",
    "raum.children.append(Tisch())\n",
    "raum.children.append(Mensch(\"Anton\"))\n",
    "raum.children.append(Mensch(\"Berta\"))\n",
    "\n",
    "raumAlsXmlElement = raum.alsXml()\n",
    "\n",
    "treeAlsString = etree.tostring(raumAlsXmlElement, pretty_print = True)\n",
    "with open(\"raum.xml\", \"wb\") as file:\n",
    "    file.write(treeAlsString)"
   ]
  },
  {
   "cell_type": "code",
   "execution_count": 29,
   "metadata": {},
   "outputs": [
    {
     "name": "stdout",
     "output_type": "stream",
     "text": [
      "b'<Tisch typ=\"schreibtisch\"/>\\n  '\n",
      "b'<Tisch typ=\"schreibtisch\"/>\\n  '\n",
      "b'<Mensch name=\"Anton\"/>\\n  '\n",
      "b'<Mensch name=\"Berta\"/>\\n'\n"
     ]
    }
   ],
   "source": [
    "from lxml import etree\n",
    "\n",
    "xmlAlsString = \"\"\"<Raum location=\"urbanHarbour\" zimmernummer=\"uh20\">\n",
    "  <Tisch typ=\"schreibtisch\"/>\n",
    "  <Tisch typ=\"schreibtisch\"/>\n",
    "  <Mensch name=\"Anton\"/>\n",
    "  <Mensch name=\"Berta\"/>\n",
    "</Raum>\n",
    "\"\"\"\n",
    "root = etree.XML(xmlAlsString)\n",
    "#root.attrib\n",
    "#root.tag\n",
    "for element in root.getchildren():\n",
    "    print(etree.tostring(element))"
   ]
  }
 ],
 "metadata": {
  "kernelspec": {
   "display_name": "Python 3.10.4 64-bit",
   "language": "python",
   "name": "python3"
  },
  "language_info": {
   "codemirror_mode": {
    "name": "ipython",
    "version": 3
   },
   "file_extension": ".py",
   "mimetype": "text/x-python",
   "name": "python",
   "nbconvert_exporter": "python",
   "pygments_lexer": "ipython3"
  },
  "orig_nbformat": 4,
  "vscode": {
   "interpreter": {
    "hash": "ea44d932f48dcd1dedbec8f628baa68a8acba74a7fdfcb7691afb7ea06069b93"
   }
  }
 },
 "nbformat": 4,
 "nbformat_minor": 2
}
